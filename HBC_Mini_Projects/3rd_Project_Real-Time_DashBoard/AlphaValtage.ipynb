{
 "cells": [
  {
   "cell_type": "code",
   "execution_count": 3,
   "metadata": {},
   "outputs": [],
   "source": [
    "import dash\n",
    "from dash import dcc, html\n",
    "import pandas as pd\n",
    "import requests\n",
    "import plotly.graph_objs as go\n",
    "from dash.dependencies import Input, Output\n",
    "import time"
   ]
  },
  {
   "cell_type": "code",
   "execution_count": 4,
   "metadata": {},
   "outputs": [],
   "source": [
    "app = dash.Dash(__name__)"
   ]
  },
  {
   "cell_type": "code",
   "execution_count": 5,
   "metadata": {},
   "outputs": [],
   "source": [
    "app.layout = html.Div([\n",
    "    html.H1(\"Real-Time Stock Price Dashboard\"),\n",
    "    dcc.Dropdown(\n",
    "        id='stock-dropdown',\n",
    "        options=[\n",
    "            {'label': 'Apple', 'value': 'AAPL'},\n",
    "            {'label': 'Google', 'value': 'GOOGL'},\n",
    "            {'label': 'Amazon', 'value': 'AMZN'}\n",
    "        ],\n",
    "        value='AMZN'\n",
    "            ),\n",
    "    dcc.Graph(id='live-graph'),\n",
    "    dcc.Interval(\n",
    "        id='interval-component',\n",
    "        interval=10*1000,  # in milliseconds\n",
    "        n_intervals=0\n",
    "    )\n",
    "])"
   ]
  },
  {
   "cell_type": "code",
   "execution_count": 6,
   "metadata": {},
   "outputs": [],
   "source": [
    "def fetch_stock_data(symbol):\n",
    "    api_key = 'DARUDOFLSS1PB7S8'  \n",
    "    url = f'https://www.alphavantage.co/query?function=TIME_SERIES_INTRADAY&symbol={symbol}&interval=1min&apikey={api_key}'\n",
    "    response = requests.get(url)\n",
    "    data = response.json()\n",
    "    return data"
   ]
  },
  {
   "cell_type": "code",
   "execution_count": 7,
   "metadata": {},
   "outputs": [],
   "source": [
    "@app.callback(\n",
    "    Output('live-graph', 'figure'),\n",
    "    [Input('stock-dropdown', 'value'),\n",
    "     Input('interval-component', 'n_intervals')]\n",
    ")\n",
    "def update_graph(selected_stock, n):\n",
    "    data = fetch_stock_data(selected_stock)\n",
    "    if 'Time Series (1min)' not in data:\n",
    "        print(\"API Response:\", data)  # Log the response for debugging\n",
    "        return {\n",
    "            'data': [],\n",
    "            'layout': go.Layout(\n",
    "                title='Error: No data available',\n",
    "                xaxis_title='Time',\n",
    "                yaxis_title='Price (USD)'\n",
    "            )\n",
    "        }\n",
    "    time_series = data['Time Series (1min)']\n",
    "\n",
    "    # Prepare data for plotting\n",
    "    times = list(time_series.keys())\n",
    "    prices = [float(time_series[time]['1. open']) for time in times]\n",
    "\n",
    "    # Create the figure\n",
    "    figure = go.Figure()\n",
    "    figure.add_trace(go.Scatter(x=times, y=prices, mode='lines+markers', name=selected_stock))\n",
    "    figure.update_layout(title=f'Real-Time Stock Price for {selected_stock}', xaxis_title='Time', yaxis_title='Price (USD)')\n",
    "\n",
    "    return figure"
   ]
  },
  {
   "cell_type": "code",
   "execution_count": 8,
   "metadata": {},
   "outputs": [
    {
     "data": {
      "text/html": [
       "\n",
       "        <iframe\n",
       "            width=\"100%\"\n",
       "            height=\"650\"\n",
       "            src=\"http://127.0.0.1:8050/\"\n",
       "            frameborder=\"0\"\n",
       "            allowfullscreen\n",
       "            \n",
       "        ></iframe>\n",
       "        "
      ],
      "text/plain": [
       "<IPython.lib.display.IFrame at 0x187cb451fa0>"
      ]
     },
     "metadata": {},
     "output_type": "display_data"
    }
   ],
   "source": [
    "if __name__ == '__main__':\n",
    "    app.run_server(debug=True)"
   ]
  },
  {
   "cell_type": "code",
   "execution_count": null,
   "metadata": {},
   "outputs": [],
   "source": []
  }
 ],
 "metadata": {
  "kernelspec": {
   "display_name": "Python 3",
   "language": "python",
   "name": "python3"
  },
  "language_info": {
   "codemirror_mode": {
    "name": "ipython",
    "version": 3
   },
   "file_extension": ".py",
   "mimetype": "text/x-python",
   "name": "python",
   "nbconvert_exporter": "python",
   "pygments_lexer": "ipython3",
   "version": "3.12.7"
  }
 },
 "nbformat": 4,
 "nbformat_minor": 2
}
